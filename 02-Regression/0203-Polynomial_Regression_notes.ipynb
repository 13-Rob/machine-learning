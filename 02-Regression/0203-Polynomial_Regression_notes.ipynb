{
 "cells": [
  {
   "cell_type": "markdown",
   "metadata": {},
   "source": [
    "# Polynomial Linear Regression\n",
    "\n",
    "---\n",
    "\n",
    "## Polynomial Linear Regression Equation\n",
    "\n",
    "$$ y = b_{0} + b_{1} x_{1} + b_{2} x_{1}^{2} + ... + b_{n} x_{1}^{n} = \\sum_{i=0}^n b_{i} x_{1}^{i} $$\n",
    "\n",
    "We can use the polynomial regression when we see the data growing or decreasing exponentially over the x-axis.\n",
    "\n",
    "Whether or not a function is linear, in this case, have to do with the coefficients. Since we are always using linear coefficients, then our function will be linear."
   ]
  }
 ],
 "metadata": {
  "kernelspec": {
   "display_name": "machine-learning-venv",
   "language": "python",
   "name": "python3"
  },
  "language_info": {
   "name": "python",
   "version": "3.12.1"
  }
 },
 "nbformat": 4,
 "nbformat_minor": 2
}
