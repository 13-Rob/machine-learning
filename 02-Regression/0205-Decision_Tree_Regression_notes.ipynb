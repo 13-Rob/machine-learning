{
 "cells": [
  {
   "cell_type": "markdown",
   "metadata": {},
   "source": [
    "# Decision Tree Regression\n",
    "\n",
    "---\n",
    "\n",
    "## Classification and Regression Trees (CART)\n",
    "\n",
    "CART is an umbrella term used to talk about, as the name says, Classification and Regression trees.\n",
    "\n",
    "## Decission Tree Regression\n",
    "\n",
    "A decission tree will take the data and will start to split the data in segments, based on the independent variables. Those segments are not arbitrary, but based on an algorithm, meaning that every split will increase the information we have about our data.\n",
    "\n",
    "After the decision tree is completed, no more splits can be made, to use it to predict a value of y based on our parameters, we will take the average value of y for the points in each section, and that will be our y value for every point that falls in that same section.\n"
   ]
  }
 ],
 "metadata": {
  "language_info": {
   "name": "python"
  }
 },
 "nbformat": 4,
 "nbformat_minor": 2
}
