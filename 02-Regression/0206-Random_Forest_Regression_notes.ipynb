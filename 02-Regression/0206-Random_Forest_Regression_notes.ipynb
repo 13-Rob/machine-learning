{
 "cells": [
  {
   "cell_type": "markdown",
   "metadata": {},
   "source": [
    "# Random Forest Regression\n",
    "\n",
    "---\n",
    "\n",
    "## Random Forest and Ensemble Learning\n",
    "\n",
    "Random Forest is a version of Ensamble Learning. Ensamble Learning is when you take multiple algorithms or the same algorithm multiple times and you put them together to make something much more powerful than the original.\n",
    "\n",
    "**STEP 1**: Pick at random K data points from the Training set.\n",
    "\n",
    "**STEP 2**: Build the Decision Tree associated to these K data points.\n",
    "\n",
    "**STEP 3**: Choose the number Ntree of trees you want to build and repeat STEPS 1 & 2.\n",
    "\n",
    "**STEP 4**: For a new data point, make each one of your Ntree trees predict the value of Y to for the data point in question, and assign the new data point the average acress all of the predicted Y values."
   ]
  }
 ],
 "metadata": {
  "language_info": {
   "name": "python"
  }
 },
 "nbformat": 4,
 "nbformat_minor": 2
}
