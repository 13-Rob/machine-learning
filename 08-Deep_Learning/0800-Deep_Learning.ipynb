{
 "cells": [
  {
   "cell_type": "markdown",
   "metadata": {},
   "source": [
    "# Deep Learning\n",
    "---\n",
    "## What is Deep Learning?\n",
    "\n",
    "Neural networks and Deep Learning have been around for quite sometime, but they started picking up now and impacting the world now. They were invented in the 60s - 70s, and became really popular in the 80s; but the technology back there didn't allow this new technology to develop.\n",
    "\n",
    "**Storage Capacity**\n",
    "\n",
    "1956:\n",
    "\n",
    "- 5MB hard drive were moved using forklifts.\n",
    "\n",
    "- A company would have to pay $2,500 to rent that hard drive for a month.\n",
    "\n",
    "1980:\n",
    "\n",
    "- 10MB hard drive would cost you around $3,500.\n",
    "\n",
    "2017:\n",
    "\n",
    "- You can get 256GB SD Card for $150.\n",
    "\n",
    "**Processing Capacity**\n",
    "\n",
    "The processing capacity have been evolving follow the Moore's Law, exponentially growing more and more.\n",
    "\n",
    "---\n",
    "\n",
    "### Other Things to Check:\n",
    "\n",
    "- Geoffrey Hinton\n",
    "\n",
    "- Neuroscience\n",
    "\n",
    "### Materials Required:\n",
    "\n",
    "- <a href=\"https://www.tfcertification.com/pages/deep-learning\">Deep Learning A-Z™: Hands-On Artificial Neural Networks</a>\n"
   ]
  }
 ],
 "metadata": {
  "language_info": {
   "name": "python"
  }
 },
 "nbformat": 4,
 "nbformat_minor": 2
}
