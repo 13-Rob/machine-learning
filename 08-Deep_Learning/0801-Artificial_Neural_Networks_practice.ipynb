{
 "cells": [
  {
   "cell_type": "markdown",
   "metadata": {},
   "source": [
    "# Artificial Neural Networks\n",
    "\n",
    "---\n",
    "\n",
    "## Import the libraries"
   ]
  },
  {
   "cell_type": "code",
   "execution_count": 103,
   "metadata": {},
   "outputs": [],
   "source": [
    "import numpy as np\n",
    "import pandas as pd\n",
    "import tensorflow as tf"
   ]
  },
  {
   "cell_type": "markdown",
   "metadata": {},
   "source": [
    "\n",
    "---\n",
    "\n",
    "## Import the dataset"
   ]
  },
  {
   "cell_type": "code",
   "execution_count": 104,
   "metadata": {},
   "outputs": [],
   "source": [
    "dataset = pd.read_csv('0800-Data/Churn_Modelling.csv')\n",
    "X = dataset.iloc[:, 3:-1].values\n",
    "y = dataset.iloc[:, -1].values"
   ]
  },
  {
   "cell_type": "code",
   "execution_count": 105,
   "metadata": {},
   "outputs": [
    {
     "name": "stdout",
     "output_type": "stream",
     "text": [
      "[[619 'France' 'Female' ... 1 1 101348.88]\n",
      " [608 'Spain' 'Female' ... 0 1 112542.58]\n",
      " [502 'France' 'Female' ... 1 0 113931.57]\n",
      " ...\n",
      " [709 'France' 'Female' ... 0 1 42085.58]\n",
      " [772 'Germany' 'Male' ... 1 0 92888.52]\n",
      " [792 'France' 'Female' ... 1 0 38190.78]]\n"
     ]
    }
   ],
   "source": [
    "print(X)"
   ]
  },
  {
   "cell_type": "code",
   "execution_count": 106,
   "metadata": {},
   "outputs": [
    {
     "name": "stdout",
     "output_type": "stream",
     "text": [
      "[1 0 1 ... 1 1 0]\n"
     ]
    }
   ],
   "source": [
    "print(y)"
   ]
  },
  {
   "cell_type": "markdown",
   "metadata": {},
   "source": [
    "\n",
    "---\n",
    "\n",
    "## Encode categorical data"
   ]
  },
  {
   "cell_type": "code",
   "execution_count": 107,
   "metadata": {},
   "outputs": [],
   "source": [
    "from sklearn.preprocessing import LabelEncoder\n",
    "le = LabelEncoder()\n",
    "X[:, 2] = le.fit_transform(X[:, 2])"
   ]
  },
  {
   "cell_type": "code",
   "execution_count": 108,
   "metadata": {},
   "outputs": [],
   "source": [
    "from sklearn.compose import ColumnTransformer\n",
    "from sklearn.preprocessing import OneHotEncoder\n",
    "\n",
    "ct = ColumnTransformer(transformers=[('encoder', OneHotEncoder(), [1])], remainder='passthrough')\n",
    "X = np.array(ct.fit_transform(X))"
   ]
  },
  {
   "cell_type": "markdown",
   "metadata": {},
   "source": [
    "\n",
    "---\n",
    "\n",
    "## Split the dataset"
   ]
  },
  {
   "cell_type": "code",
   "execution_count": 109,
   "metadata": {},
   "outputs": [],
   "source": [
    "from sklearn.model_selection import train_test_split\n",
    "X_train, X_test, y_train, y_test = train_test_split(X, y, test_size=0.2)"
   ]
  },
  {
   "cell_type": "markdown",
   "metadata": {},
   "source": [
    "\n",
    "---\n",
    "\n",
    "## Feature Scaling"
   ]
  },
  {
   "cell_type": "code",
   "execution_count": 110,
   "metadata": {},
   "outputs": [],
   "source": [
    "from sklearn.preprocessing import StandardScaler\n",
    "sc = StandardScaler()\n",
    "X_train = sc.fit_transform(X_train)\n",
    "X_test = sc.transform(X_test)"
   ]
  },
  {
   "cell_type": "markdown",
   "metadata": {},
   "source": [
    "\n",
    "---\n",
    "\n",
    "## Build the ANN\n",
    "\n",
    "### Initialize ANN"
   ]
  },
  {
   "cell_type": "code",
   "execution_count": 111,
   "metadata": {},
   "outputs": [],
   "source": [
    "ann = tf.compat.v2.keras.Sequential()"
   ]
  },
  {
   "cell_type": "markdown",
   "metadata": {},
   "source": [
    "### Add the input layer and first hidden layer"
   ]
  },
  {
   "cell_type": "code",
   "execution_count": 112,
   "metadata": {},
   "outputs": [],
   "source": [
    "ann.add(tf.compat.v2.keras.layers.Dense(units=6, activation='relu'))"
   ]
  },
  {
   "cell_type": "markdown",
   "metadata": {},
   "source": [
    "### Add the second hidden layer"
   ]
  },
  {
   "cell_type": "code",
   "execution_count": 113,
   "metadata": {},
   "outputs": [],
   "source": [
    "ann.add(tf.compat.v2.keras.layers.Dense(units=6, activation='relu'))"
   ]
  },
  {
   "cell_type": "markdown",
   "metadata": {},
   "source": [
    "### Add the output layer"
   ]
  },
  {
   "cell_type": "code",
   "execution_count": 114,
   "metadata": {},
   "outputs": [],
   "source": [
    "ann.add(tf.compat.v2.keras.layers.Dense(units=1, activation='sigmoid'))"
   ]
  },
  {
   "cell_type": "markdown",
   "metadata": {},
   "source": [
    "\n",
    "---\n",
    "\n",
    "## Train the ANN"
   ]
  },
  {
   "cell_type": "code",
   "execution_count": 115,
   "metadata": {},
   "outputs": [],
   "source": [
    "ann.compile(optimizer='adam', loss='binary_crossentropy', metrics=['accuracy'])"
   ]
  },
  {
   "cell_type": "code",
   "execution_count": 116,
   "metadata": {},
   "outputs": [
    {
     "name": "stdout",
     "output_type": "stream",
     "text": [
      "Epoch 1/100\n"
     ]
    },
    {
     "name": "stdout",
     "output_type": "stream",
     "text": [
      "250/250 [==============================] - 1s 819us/step - loss: 0.5479 - accuracy: 0.7757\n",
      "Epoch 2/100\n",
      "250/250 [==============================] - 0s 749us/step - loss: 0.4662 - accuracy: 0.7981\n",
      "Epoch 3/100\n",
      "250/250 [==============================] - 0s 731us/step - loss: 0.4398 - accuracy: 0.8050\n",
      "Epoch 4/100\n",
      "250/250 [==============================] - 0s 755us/step - loss: 0.4257 - accuracy: 0.8144\n",
      "Epoch 5/100\n",
      "250/250 [==============================] - 0s 725us/step - loss: 0.4167 - accuracy: 0.8190\n",
      "Epoch 6/100\n",
      "250/250 [==============================] - 0s 747us/step - loss: 0.4087 - accuracy: 0.8242\n",
      "Epoch 7/100\n",
      "250/250 [==============================] - 0s 728us/step - loss: 0.4007 - accuracy: 0.8314\n",
      "Epoch 8/100\n",
      "250/250 [==============================] - 0s 765us/step - loss: 0.3919 - accuracy: 0.8369\n",
      "Epoch 9/100\n",
      "250/250 [==============================] - 0s 733us/step - loss: 0.3832 - accuracy: 0.8388\n",
      "Epoch 10/100\n",
      "250/250 [==============================] - 0s 747us/step - loss: 0.3750 - accuracy: 0.8414\n",
      "Epoch 11/100\n",
      "250/250 [==============================] - 0s 721us/step - loss: 0.3682 - accuracy: 0.8466\n",
      "Epoch 12/100\n",
      "250/250 [==============================] - 0s 768us/step - loss: 0.3629 - accuracy: 0.8514\n",
      "Epoch 13/100\n",
      "250/250 [==============================] - 0s 733us/step - loss: 0.3576 - accuracy: 0.8531\n",
      "Epoch 14/100\n",
      "250/250 [==============================] - 0s 724us/step - loss: 0.3539 - accuracy: 0.8551\n",
      "Epoch 15/100\n",
      "250/250 [==============================] - 0s 754us/step - loss: 0.3508 - accuracy: 0.8555\n",
      "Epoch 16/100\n",
      "250/250 [==============================] - 0s 727us/step - loss: 0.3486 - accuracy: 0.8553\n",
      "Epoch 17/100\n",
      "250/250 [==============================] - 0s 736us/step - loss: 0.3472 - accuracy: 0.8579\n",
      "Epoch 18/100\n",
      "250/250 [==============================] - 0s 722us/step - loss: 0.3458 - accuracy: 0.8570\n",
      "Epoch 19/100\n",
      "250/250 [==============================] - 0s 745us/step - loss: 0.3449 - accuracy: 0.8585\n",
      "Epoch 20/100\n",
      "250/250 [==============================] - 0s 747us/step - loss: 0.3441 - accuracy: 0.8591\n",
      "Epoch 21/100\n",
      "250/250 [==============================] - 0s 743us/step - loss: 0.3433 - accuracy: 0.8585\n",
      "Epoch 22/100\n",
      "250/250 [==============================] - 0s 741us/step - loss: 0.3424 - accuracy: 0.8579\n",
      "Epoch 23/100\n",
      "250/250 [==============================] - 0s 765us/step - loss: 0.3420 - accuracy: 0.8591\n",
      "Epoch 24/100\n",
      "250/250 [==============================] - 0s 728us/step - loss: 0.3413 - accuracy: 0.8591\n",
      "Epoch 25/100\n",
      "250/250 [==============================] - 0s 736us/step - loss: 0.3409 - accuracy: 0.8586\n",
      "Epoch 26/100\n",
      "250/250 [==============================] - 0s 721us/step - loss: 0.3400 - accuracy: 0.8594\n",
      "Epoch 27/100\n",
      "250/250 [==============================] - 0s 733us/step - loss: 0.3402 - accuracy: 0.8599\n",
      "Epoch 28/100\n",
      "250/250 [==============================] - 0s 730us/step - loss: 0.3392 - accuracy: 0.8599\n",
      "Epoch 29/100\n",
      "250/250 [==============================] - 0s 719us/step - loss: 0.3393 - accuracy: 0.8595\n",
      "Epoch 30/100\n",
      "250/250 [==============================] - 0s 719us/step - loss: 0.3388 - accuracy: 0.8605\n",
      "Epoch 31/100\n",
      "250/250 [==============================] - 0s 729us/step - loss: 0.3384 - accuracy: 0.8593\n",
      "Epoch 32/100\n",
      "250/250 [==============================] - 0s 753us/step - loss: 0.3387 - accuracy: 0.8604\n",
      "Epoch 33/100\n",
      "250/250 [==============================] - 0s 709us/step - loss: 0.3383 - accuracy: 0.8609\n",
      "Epoch 34/100\n",
      "250/250 [==============================] - 0s 792us/step - loss: 0.3377 - accuracy: 0.8611\n",
      "Epoch 35/100\n",
      "250/250 [==============================] - 0s 749us/step - loss: 0.3375 - accuracy: 0.8601\n",
      "Epoch 36/100\n",
      "250/250 [==============================] - 0s 731us/step - loss: 0.3375 - accuracy: 0.8609\n",
      "Epoch 37/100\n",
      "250/250 [==============================] - 0s 739us/step - loss: 0.3368 - accuracy: 0.8614\n",
      "Epoch 38/100\n",
      "250/250 [==============================] - 0s 743us/step - loss: 0.3370 - accuracy: 0.8611\n",
      "Epoch 39/100\n",
      "250/250 [==============================] - 0s 719us/step - loss: 0.3367 - accuracy: 0.8596\n",
      "Epoch 40/100\n",
      "250/250 [==============================] - 0s 733us/step - loss: 0.3363 - accuracy: 0.8619\n",
      "Epoch 41/100\n",
      "250/250 [==============================] - 0s 765us/step - loss: 0.3363 - accuracy: 0.8605\n",
      "Epoch 42/100\n",
      "250/250 [==============================] - 0s 745us/step - loss: 0.3361 - accuracy: 0.8591\n",
      "Epoch 43/100\n",
      "250/250 [==============================] - 0s 761us/step - loss: 0.3358 - accuracy: 0.8611\n",
      "Epoch 44/100\n",
      "250/250 [==============================] - 0s 749us/step - loss: 0.3354 - accuracy: 0.8597\n",
      "Epoch 45/100\n",
      "250/250 [==============================] - 0s 702us/step - loss: 0.3353 - accuracy: 0.8599\n",
      "Epoch 46/100\n",
      "250/250 [==============================] - 0s 804us/step - loss: 0.3354 - accuracy: 0.8597\n",
      "Epoch 47/100\n",
      "250/250 [==============================] - 0s 750us/step - loss: 0.3351 - accuracy: 0.8605\n",
      "Epoch 48/100\n",
      "250/250 [==============================] - 0s 734us/step - loss: 0.3347 - accuracy: 0.8608\n",
      "Epoch 49/100\n",
      "250/250 [==============================] - 0s 741us/step - loss: 0.3342 - accuracy: 0.8615\n",
      "Epoch 50/100\n",
      "250/250 [==============================] - 0s 745us/step - loss: 0.3341 - accuracy: 0.8620\n",
      "Epoch 51/100\n",
      "250/250 [==============================] - 0s 746us/step - loss: 0.3345 - accuracy: 0.8595\n",
      "Epoch 52/100\n",
      "250/250 [==============================] - 0s 719us/step - loss: 0.3341 - accuracy: 0.8629\n",
      "Epoch 53/100\n",
      "250/250 [==============================] - 0s 725us/step - loss: 0.3336 - accuracy: 0.8618\n",
      "Epoch 54/100\n",
      "250/250 [==============================] - 0s 762us/step - loss: 0.3338 - accuracy: 0.8626\n",
      "Epoch 55/100\n",
      "250/250 [==============================] - 0s 735us/step - loss: 0.3331 - accuracy: 0.8616\n",
      "Epoch 56/100\n",
      "250/250 [==============================] - 0s 734us/step - loss: 0.3334 - accuracy: 0.8606\n",
      "Epoch 57/100\n",
      "250/250 [==============================] - 0s 762us/step - loss: 0.3329 - accuracy: 0.8616\n",
      "Epoch 58/100\n",
      "250/250 [==============================] - 0s 740us/step - loss: 0.3326 - accuracy: 0.8616\n",
      "Epoch 59/100\n",
      "250/250 [==============================] - 0s 721us/step - loss: 0.3327 - accuracy: 0.8620\n",
      "Epoch 60/100\n",
      "250/250 [==============================] - 0s 722us/step - loss: 0.3325 - accuracy: 0.8639\n",
      "Epoch 61/100\n",
      "250/250 [==============================] - 0s 772us/step - loss: 0.3322 - accuracy: 0.8621\n",
      "Epoch 62/100\n",
      "250/250 [==============================] - 0s 755us/step - loss: 0.3322 - accuracy: 0.8629\n",
      "Epoch 63/100\n",
      "250/250 [==============================] - 0s 754us/step - loss: 0.3319 - accuracy: 0.8627\n",
      "Epoch 64/100\n",
      "250/250 [==============================] - 0s 751us/step - loss: 0.3315 - accuracy: 0.8633\n",
      "Epoch 65/100\n",
      "250/250 [==============================] - 0s 737us/step - loss: 0.3313 - accuracy: 0.8624\n",
      "Epoch 66/100\n",
      "250/250 [==============================] - 0s 734us/step - loss: 0.3311 - accuracy: 0.8624\n",
      "Epoch 67/100\n",
      "250/250 [==============================] - 0s 751us/step - loss: 0.3314 - accuracy: 0.8645\n",
      "Epoch 68/100\n",
      "250/250 [==============================] - 0s 755us/step - loss: 0.3308 - accuracy: 0.8631\n",
      "Epoch 69/100\n",
      "250/250 [==============================] - 0s 773us/step - loss: 0.3308 - accuracy: 0.8630\n",
      "Epoch 70/100\n",
      "250/250 [==============================] - 0s 733us/step - loss: 0.3310 - accuracy: 0.8626\n",
      "Epoch 71/100\n",
      "250/250 [==============================] - 0s 740us/step - loss: 0.3306 - accuracy: 0.8630\n",
      "Epoch 72/100\n",
      "250/250 [==============================] - 0s 720us/step - loss: 0.3304 - accuracy: 0.8625\n",
      "Epoch 73/100\n",
      "250/250 [==============================] - 0s 774us/step - loss: 0.3306 - accuracy: 0.8634\n",
      "Epoch 74/100\n",
      "250/250 [==============================] - 0s 727us/step - loss: 0.3307 - accuracy: 0.8627\n",
      "Epoch 75/100\n",
      "250/250 [==============================] - 0s 739us/step - loss: 0.3301 - accuracy: 0.8620\n",
      "Epoch 76/100\n",
      "250/250 [==============================] - 0s 735us/step - loss: 0.3307 - accuracy: 0.8634\n",
      "Epoch 77/100\n",
      "250/250 [==============================] - 0s 737us/step - loss: 0.3299 - accuracy: 0.8620\n",
      "Epoch 78/100\n",
      "250/250 [==============================] - 0s 719us/step - loss: 0.3299 - accuracy: 0.8634\n",
      "Epoch 79/100\n",
      "250/250 [==============================] - 0s 711us/step - loss: 0.3301 - accuracy: 0.8629\n",
      "Epoch 80/100\n",
      "250/250 [==============================] - 0s 738us/step - loss: 0.3300 - accuracy: 0.8622\n",
      "Epoch 81/100\n",
      "250/250 [==============================] - 0s 715us/step - loss: 0.3297 - accuracy: 0.8624\n",
      "Epoch 82/100\n",
      "250/250 [==============================] - 0s 724us/step - loss: 0.3293 - accuracy: 0.8645\n",
      "Epoch 83/100\n",
      "250/250 [==============================] - 0s 728us/step - loss: 0.3295 - accuracy: 0.8616\n",
      "Epoch 84/100\n",
      "250/250 [==============================] - 0s 772us/step - loss: 0.3297 - accuracy: 0.8624\n",
      "Epoch 85/100\n",
      "250/250 [==============================] - 0s 722us/step - loss: 0.3296 - accuracy: 0.8636\n",
      "Epoch 86/100\n",
      "250/250 [==============================] - 0s 690us/step - loss: 0.3291 - accuracy: 0.8612\n",
      "Epoch 87/100\n",
      "250/250 [==============================] - 0s 693us/step - loss: 0.3293 - accuracy: 0.8633\n",
      "Epoch 88/100\n",
      "250/250 [==============================] - 0s 733us/step - loss: 0.3292 - accuracy: 0.8622\n",
      "Epoch 89/100\n",
      "250/250 [==============================] - 0s 701us/step - loss: 0.3289 - accuracy: 0.8611\n",
      "Epoch 90/100\n",
      "250/250 [==============================] - 0s 708us/step - loss: 0.3288 - accuracy: 0.8650\n",
      "Epoch 91/100\n",
      "250/250 [==============================] - 0s 724us/step - loss: 0.3293 - accuracy: 0.8626\n",
      "Epoch 92/100\n",
      "250/250 [==============================] - 0s 712us/step - loss: 0.3292 - accuracy: 0.8639\n",
      "Epoch 93/100\n",
      "250/250 [==============================] - 0s 786us/step - loss: 0.3289 - accuracy: 0.8637\n",
      "Epoch 94/100\n",
      "250/250 [==============================] - 0s 712us/step - loss: 0.3291 - accuracy: 0.8643\n",
      "Epoch 95/100\n",
      "250/250 [==============================] - 0s 685us/step - loss: 0.3290 - accuracy: 0.8622\n",
      "Epoch 96/100\n",
      "250/250 [==============================] - 0s 682us/step - loss: 0.3288 - accuracy: 0.8633\n",
      "Epoch 97/100\n",
      "250/250 [==============================] - 0s 784us/step - loss: 0.3290 - accuracy: 0.8649\n",
      "Epoch 98/100\n",
      "250/250 [==============================] - 0s 711us/step - loss: 0.3287 - accuracy: 0.8639\n",
      "Epoch 99/100\n",
      "250/250 [==============================] - 0s 705us/step - loss: 0.3287 - accuracy: 0.8626\n",
      "Epoch 100/100\n",
      "250/250 [==============================] - 0s 700us/step - loss: 0.3289 - accuracy: 0.8620\n"
     ]
    },
    {
     "data": {
      "text/plain": [
       "<keras.src.callbacks.History at 0x25546647310>"
      ]
     },
     "execution_count": 116,
     "metadata": {},
     "output_type": "execute_result"
    }
   ],
   "source": [
    "ann.fit(X_train, y_train, batch_size=32, epochs=100)"
   ]
  },
  {
   "cell_type": "markdown",
   "metadata": {},
   "source": [
    "\n",
    "---\n",
    "\n",
    "## Predict the results\n",
    "\n",
    "**Homework**\n",
    "\n",
    "Use our ANN model to predict if the customer with the following informations will leave the bank: \n",
    "\n",
    "Geography: France\n",
    "\n",
    "Credit Score: 600\n",
    "\n",
    "Gender: Male\n",
    "\n",
    "Age: 40 years old\n",
    "\n",
    "Tenure: 3 years\n",
    "\n",
    "Balance: \\$ 60000\n",
    "\n",
    "Number of Products: 2\n",
    "\n",
    "Does this customer have a credit card ? Yes\n",
    "\n",
    "Is this customer an Active Member: Yes\n",
    "\n",
    "Estimated Salary: \\$ 50000\n",
    "\n",
    "So, should we say goodbye to that customer ?"
   ]
  },
  {
   "cell_type": "code",
   "execution_count": 117,
   "metadata": {},
   "outputs": [
    {
     "name": "stdout",
     "output_type": "stream",
     "text": [
      "1/1 [==============================] - 0s 48ms/step\n",
      "[[False]]\n"
     ]
    }
   ],
   "source": [
    "print(ann.predict(sc.transform([[1, 0, 0, 600, 1, 40, 3, 60000, 2, 1, 1, 50000]])) > 0.5)"
   ]
  },
  {
   "cell_type": "markdown",
   "metadata": {},
   "source": [
    "### Predicting using the Test set"
   ]
  },
  {
   "cell_type": "code",
   "execution_count": 118,
   "metadata": {},
   "outputs": [
    {
     "name": "stdout",
     "output_type": "stream",
     "text": [
      "63/63 [==============================] - 0s 696us/step\n",
      "[[0 0]\n",
      " [0 0]\n",
      " [0 0]\n",
      " ...\n",
      " [0 0]\n",
      " [0 1]\n",
      " [1 1]]\n"
     ]
    }
   ],
   "source": [
    "y_pred = ann.predict(X_test)\n",
    "y_pred = (y_pred > 0.5)\n",
    "print(np.concatenate((y_pred.reshape(len(y_pred),1), y_test.reshape(len(y_test),1)), 1))"
   ]
  },
  {
   "cell_type": "markdown",
   "metadata": {},
   "source": [
    "\n",
    "---\n",
    "\n",
    "## Make the Confusion Matrix"
   ]
  },
  {
   "cell_type": "code",
   "execution_count": 119,
   "metadata": {},
   "outputs": [
    {
     "name": "stdout",
     "output_type": "stream",
     "text": [
      "[[1540   45]\n",
      " [ 211  204]]\n"
     ]
    }
   ],
   "source": [
    "from sklearn.metrics import confusion_matrix, accuracy_score\n",
    "print(confusion_matrix(y_test, y_pred))"
   ]
  },
  {
   "cell_type": "code",
   "execution_count": 120,
   "metadata": {},
   "outputs": [
    {
     "name": "stdout",
     "output_type": "stream",
     "text": [
      "0.872\n"
     ]
    }
   ],
   "source": [
    "print(accuracy_score(y_test, y_pred))"
   ]
  }
 ],
 "metadata": {
  "kernelspec": {
   "display_name": "machine-learning-venv",
   "language": "python",
   "name": "python3"
  },
  "language_info": {
   "codemirror_mode": {
    "name": "ipython",
    "version": 3
   },
   "file_extension": ".py",
   "mimetype": "text/x-python",
   "name": "python",
   "nbconvert_exporter": "python",
   "pygments_lexer": "ipython3",
   "version": "3.11.7"
  }
 },
 "nbformat": 4,
 "nbformat_minor": 2
}
