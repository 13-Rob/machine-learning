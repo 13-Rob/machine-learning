{
 "cells": [
  {
   "cell_type": "markdown",
   "metadata": {},
   "source": [
    "# Convolutional Neural Networks\n",
    "\n",
    "---\n",
    "\n",
    "## Import the libraries"
   ]
  },
  {
   "cell_type": "code",
   "execution_count": 1,
   "metadata": {},
   "outputs": [
    {
     "name": "stdout",
     "output_type": "stream",
     "text": [
      "WARNING:tensorflow:From c:\\Users\\rgonzalez\\Desktop\\Python\\machine-learning\\machine-learning-venv-py3-11\\Lib\\site-packages\\keras\\src\\losses.py:2976: The name tf.losses.sparse_softmax_cross_entropy is deprecated. Please use tf.compat.v1.losses.sparse_softmax_cross_entropy instead.\n",
      "\n"
     ]
    }
   ],
   "source": [
    "import tensorflow as tf\n",
    "from keras.preprocessing.image import ImageDataGenerator"
   ]
  },
  {
   "cell_type": "markdown",
   "metadata": {},
   "source": [
    "\n",
    "---\n",
    "\n",
    "## Data preprocessing"
   ]
  },
  {
   "cell_type": "code",
   "execution_count": 2,
   "metadata": {},
   "outputs": [
    {
     "name": "stdout",
     "output_type": "stream",
     "text": [
      "Found 8000 images belonging to 2 classes.\n"
     ]
    }
   ],
   "source": [
    "train_datagen = ImageDataGenerator(\n",
    "    rescale=1./255,\n",
    "    shear_range=0.2,\n",
    "    zoom_range=0.2,\n",
    "    horizontal_flip=True\n",
    ")\n",
    "\n",
    "training_set = train_datagen.flow_from_directory(\n",
    "    '0800-Data/dataset/training_set/',\n",
    "    target_size=(64, 64),\n",
    "    batch_size=32,\n",
    "    class_mode='binary'\n",
    ")"
   ]
  },
  {
   "cell_type": "code",
   "execution_count": 3,
   "metadata": {},
   "outputs": [
    {
     "name": "stdout",
     "output_type": "stream",
     "text": [
      "Found 2000 images belonging to 2 classes.\n"
     ]
    }
   ],
   "source": [
    "test_datagen = ImageDataGenerator(\n",
    "    rescale=1./255\n",
    ")\n",
    "\n",
    "test_set = test_datagen.flow_from_directory(\n",
    "    '0800-Data/dataset/test_set/',\n",
    "    target_size=(64, 64),\n",
    "    batch_size=32,\n",
    "    class_mode='binary'\n",
    ")"
   ]
  },
  {
   "cell_type": "markdown",
   "metadata": {},
   "source": [
    "\n",
    "---\n",
    "\n",
    "## Build the CNN\n",
    "\n",
    "### Initialize the CNN"
   ]
  },
  {
   "cell_type": "code",
   "execution_count": 4,
   "metadata": {},
   "outputs": [
    {
     "name": "stdout",
     "output_type": "stream",
     "text": [
      "WARNING:tensorflow:From c:\\Users\\rgonzalez\\Desktop\\Python\\machine-learning\\machine-learning-venv-py3-11\\Lib\\site-packages\\keras\\src\\backend.py:873: The name tf.get_default_graph is deprecated. Please use tf.compat.v1.get_default_graph instead.\n",
      "\n"
     ]
    }
   ],
   "source": [
    "cnn = tf.compat.v1.keras.Sequential()"
   ]
  },
  {
   "cell_type": "markdown",
   "metadata": {},
   "source": [
    "### STEP 1 - Convolution"
   ]
  },
  {
   "cell_type": "code",
   "execution_count": 5,
   "metadata": {},
   "outputs": [],
   "source": [
    "cnn.add(tf.keras.layers.Conv2D(filters=32, kernel_size=3, activation='relu', input_shape=[64, 64, 3]))"
   ]
  },
  {
   "cell_type": "markdown",
   "metadata": {},
   "source": [
    "### STEP 2 - Pooling"
   ]
  },
  {
   "cell_type": "code",
   "execution_count": 6,
   "metadata": {},
   "outputs": [
    {
     "name": "stdout",
     "output_type": "stream",
     "text": [
      "WARNING:tensorflow:From c:\\Users\\rgonzalez\\Desktop\\Python\\machine-learning\\machine-learning-venv-py3-11\\Lib\\site-packages\\keras\\src\\layers\\pooling\\max_pooling2d.py:161: The name tf.nn.max_pool is deprecated. Please use tf.nn.max_pool2d instead.\n",
      "\n"
     ]
    }
   ],
   "source": [
    "cnn.add(tf.keras.layers.MaxPool2D(pool_size=2, strides=2))"
   ]
  },
  {
   "cell_type": "markdown",
   "metadata": {},
   "source": [
    "### Add a second convolutional layer"
   ]
  },
  {
   "cell_type": "code",
   "execution_count": 7,
   "metadata": {},
   "outputs": [],
   "source": [
    "cnn.add(tf.keras.layers.Conv2D(filters=32, kernel_size=3, activation='relu'))\n",
    "cnn.add(tf.keras.layers.MaxPool2D(pool_size=2, strides=2))"
   ]
  },
  {
   "cell_type": "markdown",
   "metadata": {},
   "source": [
    "### STEP 3 - Flattening"
   ]
  },
  {
   "cell_type": "code",
   "execution_count": 8,
   "metadata": {},
   "outputs": [],
   "source": [
    "cnn.add(tf.keras.layers.Flatten())"
   ]
  },
  {
   "cell_type": "markdown",
   "metadata": {},
   "source": [
    "### STEP 4 - Full Connection"
   ]
  },
  {
   "cell_type": "code",
   "execution_count": 9,
   "metadata": {},
   "outputs": [],
   "source": [
    "cnn.add(tf.keras.layers.Dense(units=128, activation='relu'))"
   ]
  },
  {
   "cell_type": "markdown",
   "metadata": {},
   "source": [
    "### STEP 5 - Output Layer"
   ]
  },
  {
   "cell_type": "code",
   "execution_count": 10,
   "metadata": {},
   "outputs": [],
   "source": [
    "cnn.add(tf.keras.layers.Dense(units=1, activation='sigmoid'))"
   ]
  },
  {
   "cell_type": "markdown",
   "metadata": {},
   "source": [
    "\n",
    "---\n",
    "\n",
    "## Train the CNN"
   ]
  },
  {
   "cell_type": "code",
   "execution_count": 11,
   "metadata": {},
   "outputs": [
    {
     "name": "stdout",
     "output_type": "stream",
     "text": [
      "WARNING:tensorflow:From c:\\Users\\rgonzalez\\Desktop\\Python\\machine-learning\\machine-learning-venv-py3-11\\Lib\\site-packages\\keras\\src\\optimizers\\__init__.py:309: The name tf.train.Optimizer is deprecated. Please use tf.compat.v1.train.Optimizer instead.\n",
      "\n"
     ]
    }
   ],
   "source": [
    "cnn.compile(optimizer='adam', loss='binary_crossentropy', metrics=['accuracy'])"
   ]
  },
  {
   "cell_type": "code",
   "execution_count": 13,
   "metadata": {},
   "outputs": [
    {
     "name": "stdout",
     "output_type": "stream",
     "text": [
      "Epoch 1/20\n",
      "WARNING:tensorflow:From c:\\Users\\rgonzalez\\Desktop\\Python\\machine-learning\\machine-learning-venv-py3-11\\Lib\\site-packages\\keras\\src\\utils\\tf_utils.py:492: The name tf.ragged.RaggedTensorValue is deprecated. Please use tf.compat.v1.ragged.RaggedTensorValue instead.\n",
      "\n",
      "WARNING:tensorflow:From c:\\Users\\rgonzalez\\Desktop\\Python\\machine-learning\\machine-learning-venv-py3-11\\Lib\\site-packages\\keras\\src\\engine\\base_layer_utils.py:384: The name tf.executing_eagerly_outside_functions is deprecated. Please use tf.compat.v1.executing_eagerly_outside_functions instead.\n",
      "\n",
      "250/250 [==============================] - 97s 387ms/step - loss: 0.6720 - accuracy: 0.5872 - val_loss: 0.6404 - val_accuracy: 0.6435\n",
      "Epoch 2/20\n",
      "250/250 [==============================] - 12s 49ms/step - loss: 0.6162 - accuracy: 0.6582 - val_loss: 0.5836 - val_accuracy: 0.6930\n",
      "Epoch 3/20\n",
      "250/250 [==============================] - 13s 51ms/step - loss: 0.5785 - accuracy: 0.6954 - val_loss: 0.5581 - val_accuracy: 0.7230\n",
      "Epoch 4/20\n",
      "250/250 [==============================] - 14s 57ms/step - loss: 0.5546 - accuracy: 0.7143 - val_loss: 0.5254 - val_accuracy: 0.7370\n",
      "Epoch 5/20\n",
      "250/250 [==============================] - 13s 52ms/step - loss: 0.5255 - accuracy: 0.7383 - val_loss: 0.5201 - val_accuracy: 0.7485\n",
      "Epoch 6/20\n",
      "250/250 [==============================] - 13s 53ms/step - loss: 0.4963 - accuracy: 0.7564 - val_loss: 0.4821 - val_accuracy: 0.7730\n",
      "Epoch 7/20\n",
      "250/250 [==============================] - 13s 53ms/step - loss: 0.4846 - accuracy: 0.7641 - val_loss: 0.4970 - val_accuracy: 0.7690\n",
      "Epoch 8/20\n",
      "250/250 [==============================] - 13s 53ms/step - loss: 0.4668 - accuracy: 0.7757 - val_loss: 0.4895 - val_accuracy: 0.7665\n",
      "Epoch 9/20\n",
      "250/250 [==============================] - 14s 55ms/step - loss: 0.4467 - accuracy: 0.7885 - val_loss: 0.5068 - val_accuracy: 0.7540\n",
      "Epoch 10/20\n",
      "250/250 [==============================] - 12s 48ms/step - loss: 0.4330 - accuracy: 0.7983 - val_loss: 0.4711 - val_accuracy: 0.7795\n",
      "Epoch 11/20\n",
      "250/250 [==============================] - 12s 50ms/step - loss: 0.4221 - accuracy: 0.8010 - val_loss: 0.5275 - val_accuracy: 0.7575\n",
      "Epoch 12/20\n",
      "250/250 [==============================] - 13s 54ms/step - loss: 0.4078 - accuracy: 0.8116 - val_loss: 0.4760 - val_accuracy: 0.7800\n",
      "Epoch 13/20\n",
      "250/250 [==============================] - 12s 50ms/step - loss: 0.3949 - accuracy: 0.8171 - val_loss: 0.4632 - val_accuracy: 0.7865\n",
      "Epoch 14/20\n",
      "250/250 [==============================] - 12s 50ms/step - loss: 0.3738 - accuracy: 0.8290 - val_loss: 0.5099 - val_accuracy: 0.7785\n",
      "Epoch 15/20\n",
      "250/250 [==============================] - 13s 50ms/step - loss: 0.3511 - accuracy: 0.8424 - val_loss: 0.4643 - val_accuracy: 0.7995\n",
      "Epoch 16/20\n",
      "250/250 [==============================] - 13s 52ms/step - loss: 0.3395 - accuracy: 0.8518 - val_loss: 0.4750 - val_accuracy: 0.7925\n",
      "Epoch 17/20\n",
      "250/250 [==============================] - 13s 53ms/step - loss: 0.3248 - accuracy: 0.8549 - val_loss: 0.4983 - val_accuracy: 0.7930\n",
      "Epoch 18/20\n",
      "250/250 [==============================] - 13s 51ms/step - loss: 0.3157 - accuracy: 0.8619 - val_loss: 0.4916 - val_accuracy: 0.7995\n",
      "Epoch 19/20\n",
      "250/250 [==============================] - 13s 51ms/step - loss: 0.3052 - accuracy: 0.8673 - val_loss: 0.4961 - val_accuracy: 0.7810\n",
      "Epoch 20/20\n",
      "250/250 [==============================] - 13s 52ms/step - loss: 0.2814 - accuracy: 0.8840 - val_loss: 0.4895 - val_accuracy: 0.7990\n"
     ]
    },
    {
     "data": {
      "text/plain": [
       "<keras.src.callbacks.History at 0x138a1b3b1d0>"
      ]
     },
     "execution_count": 13,
     "metadata": {},
     "output_type": "execute_result"
    }
   ],
   "source": [
    "cnn.fit(training_set, validation_data=test_set, epochs=20)"
   ]
  },
  {
   "cell_type": "markdown",
   "metadata": {},
   "source": [
    "\n",
    "---\n",
    "\n",
    "## Predict the results"
   ]
  },
  {
   "cell_type": "code",
   "execution_count": 15,
   "metadata": {},
   "outputs": [
    {
     "name": "stdout",
     "output_type": "stream",
     "text": [
      "1/1 [==============================] - 0s 19ms/step\n"
     ]
    },
    {
     "data": {
      "text/plain": [
       "1.0"
      ]
     },
     "execution_count": 15,
     "metadata": {},
     "output_type": "execute_result"
    }
   ],
   "source": [
    "import numpy as np\n",
    "from keras.preprocessing import image\n",
    "test_image = image.load_img('0800-Data/dataset/single_prediction/cat_or_dog_1.jpg', target_size=(64, 64))\n",
    "test_image = image.img_to_array(test_image)\n",
    "test_image = np.expand_dims(test_image, axis=0)\n",
    "result = cnn.predict(test_image)\n",
    "training_set.class_indices\n",
    "result[0][0]"
   ]
  },
  {
   "cell_type": "code",
   "execution_count": 16,
   "metadata": {},
   "outputs": [
    {
     "name": "stdout",
     "output_type": "stream",
     "text": [
      "dog\n"
     ]
    }
   ],
   "source": [
    "if result[0][0] == 1:\n",
    "    prediction = 'dog'\n",
    "else:\n",
    "    prediction = 'cat'\n",
    "\n",
    "print(prediction)"
   ]
  }
 ],
 "metadata": {
  "kernelspec": {
   "display_name": "machine-learning-venv-py3-11",
   "language": "python",
   "name": "python3"
  },
  "language_info": {
   "codemirror_mode": {
    "name": "ipython",
    "version": 3
   },
   "file_extension": ".py",
   "mimetype": "text/x-python",
   "name": "python",
   "nbconvert_exporter": "python",
   "pygments_lexer": "ipython3",
   "version": "3.11.7"
  }
 },
 "nbformat": 4,
 "nbformat_minor": 2
}
