{
 "cells": [
  {
   "cell_type": "markdown",
   "metadata": {},
   "source": [
    "# Artificial Neural Networks\n",
    "\n",
    "---\n",
    "\n",
    "## Neurons\n",
    "\n",
    "---\n",
    "\n",
    "## Activation Function\n",
    "\n",
    "---\n",
    "\n",
    "## How do Neural Networks work?\n",
    "\n",
    "---\n",
    "\n",
    "## How do Neural Networks learn?\n",
    "\n",
    "---\n",
    "\n",
    "## Gradient Descent\n",
    "\n",
    "### Stochastic Gradient Descent\n",
    "\n",
    "---\n",
    "\n",
    "## Backpropagation\n",
    "\n"
   ]
  }
 ],
 "metadata": {
  "language_info": {
   "name": "python"
  }
 },
 "nbformat": 4,
 "nbformat_minor": 2
}
