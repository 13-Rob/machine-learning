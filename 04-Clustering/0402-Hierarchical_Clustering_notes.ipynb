{
 "cells": [
  {
   "cell_type": "markdown",
   "metadata": {},
   "source": [
    "# Hierarchical Clustering\n",
    "\n",
    "---\n",
    "\n",
    "There are two types of Herarchical Clustering. *Agglomerative* & *Divisive*.\n",
    "\n",
    "---\n",
    "\n",
    "## Agglomerative\n",
    "\n",
    "**STEP 1**: Make each data point a single-point cluster.\n",
    "\n",
    "**STEP 2**: Take the two closest data points and make them one cluster.\n",
    "\n",
    "**STEP 3**: Take the two closest clusters and make them one cluster.\n",
    "\n",
    "**STEP 4**: Repeat STEP 3 until there is only one cluster.\n",
    "\n",
    "FIN\n",
    "\n",
    "### Distance between Clusters\n",
    "\n",
    "- **Option 1**: Closest Points.\n",
    "\n",
    "- **Option 2**: Furthest Points.\n",
    "\n",
    "- **Option 3**: Average Distance.\n",
    "\n",
    "- **Option 4**: Distance between Centroids.\n",
    "\n",
    "---\n",
    "\n",
    "## Divisive\n",
    "\n",
    "---\n",
    "\n",
    "## Dendograms\n",
    "\n"
   ]
  }
 ],
 "metadata": {
  "language_info": {
   "name": "python"
  }
 },
 "nbformat": 4,
 "nbformat_minor": 2
}
