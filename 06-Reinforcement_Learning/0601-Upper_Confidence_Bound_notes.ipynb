{
 "cells": [
  {
   "cell_type": "markdown",
   "metadata": {},
   "source": [
    "# Uppor Confidence Bound (UCB)\n",
    "\n",
    "---\n",
    "\n",
    "## Upper Condifence Bound Algorithm\n",
    "\n",
    "**STEP 1**: At each round $n$, we consider two numbers for each option $i$:\n",
    "\n",
    "- $N_{i}(n)$ - the number of times the option $i$ was selected up to round $n$.\n",
    "\n",
    "- $R_{i}(n)$ - the sum of rewards of the option $i$ up to round $n$.\n",
    "\n",
    "**STEP 2**: From these two numbers we compute:\n",
    "\n",
    "- the average reward of option $i$ up to round $n$\n",
    "\n",
    "$$ \\bar{r_{i}}(n) = { R_{i}(n) \\over N_{i}(n) } $$\n",
    "\n",
    "- the confidence interval [$ \\bar{r_{i}}(n) - \\Delta_{i}(n), \\bar{r_{i}}(n) + \\Delta_{i}(n) $] at round $n$ with\n",
    "\n",
    "$$ \\Delta_{i}(n) = \\sqrt{ {3 \\over 2} \\cdot {log(n) \\over N_{i}(n)} } $$\n",
    "\n",
    "**STEP 3**: We select the option $i$ that has the maximum UCB $ \\bar{r_{i}}(n) + \\Delta_{i}(n) $.\n"
   ]
  }
 ],
 "metadata": {
  "language_info": {
   "name": "python"
  }
 },
 "nbformat": 4,
 "nbformat_minor": 2
}
