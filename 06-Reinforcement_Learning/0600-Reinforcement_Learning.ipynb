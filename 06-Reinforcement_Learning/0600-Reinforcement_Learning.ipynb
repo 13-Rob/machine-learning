{
 "cells": [
  {
   "cell_type": "markdown",
   "metadata": {},
   "source": [
    "# Reinforcement Learning\n",
    "\n",
    "---\n",
    "\n",
    "## The Multi-Armed Bandit Problem\n",
    "\n",
    "How do you play in a certain number of machines a certain number of games to maximize the return. What you need to do is test all the machines to see which one has the best distribution and then exploit that machine with the best distribution.\n",
    "\n",
    "- We have $d$ arms. Each interaction makes a round.\n",
    "\n",
    "- At each round $n$, we choose one machine.\n",
    "\n",
    "- At each $n$ round, machine $i$ gives reward $r_{i} \\in {0, 1}$: $r_{i}(n)=1$ if the machine paid, $0$ if it didn't.\n",
    "\n",
    "Our goal is to maximize the total reward we get over many rounds.\n",
    "\n",
    "---\n",
    "\n",
    "## Additional Reading\n",
    "\n",
    "\"Using Confidence Balance for Exploitation and Exploration of trade offs.\" by Peter Auer, from Graz University of Technology, Austria."
   ]
  }
 ],
 "metadata": {
  "language_info": {
   "name": "python"
  }
 },
 "nbformat": 4,
 "nbformat_minor": 2
}
