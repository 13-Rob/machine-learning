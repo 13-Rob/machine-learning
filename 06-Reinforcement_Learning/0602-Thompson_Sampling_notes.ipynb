{
 "cells": [
  {
   "cell_type": "markdown",
   "metadata": {},
   "source": [
    "# Thompson Sampling\n",
    "\n",
    "---\n",
    "\n",
    "## Bayesian Inference\n",
    "\n",
    "Option $i$ gets rewards $y$ from Bernoulli distribution $p(y|\\theta_{i}) \\sim \\mathcal{B}(\\theta_{i})$\n",
    "\n",
    "$\\theta_{i}$ is unknown but we set its uncertainty by assuming it has a uniform distribution $p(\\theta_{i}) \\sim \\mathcal{U}([0, 1])$, which is the prior distribution.\n",
    "\n",
    "Bayes Rules: we approach $\\theta_{i}$ by the posterior distribution.\n",
    "\n",
    "$$ p(\\theta_{i}|y) = {p(y|\\theta_{i}) \\cdot p(\\theta_{i}) \\over \\int p(y|\\theta_{i}) \\cdot p(\\theta_{i}) \\cdot d\\theta_{i}} \\propto p(y|\\theta_{i}) \\times p(\\theta_{i}) $$\n",
    "\n",
    "- Posterior distribution: $p(\\theta_{i}|y)$\n",
    "\n",
    "- Likelihood function: $p(y|\\theta_{i})$\n",
    "\n",
    "- Prior distribution: $p(\\theta_{i})$\n",
    "\n",
    "We get $p(\\theta_{i}|y) \\sim \\beta (\\#\\_successes + 1, \\#\\_failures + 1)$\n",
    "\n",
    "At each round $n$ we take a random draw $\\theta_{i}(n)$ from this posterior distribution $p(\\theta_{i}|y)$, for each option $i$.\n",
    "\n",
    "At each round $n$ we select the option $i$ that has the highest $\\theta_{i}(n)$\n",
    "\n",
    "---\n",
    "\n",
    "## Thompson Sampling Algorithm\n",
    "\n",
    "**STEP 1**: At each round $n$, we consider two numbers for each option $i$:\n",
    "\n",
    "- $N_{i}^1$ - the number of times the option $i$ got reward 1 up to round $n$.\n",
    "\n",
    "- $N_{i}^0$ - the number of times the option $i$ got reward 0 up to round $n$.\n",
    "\n",
    "**STEP 2**: For each option $i$, we take a random draw from the distribution below:\n",
    "\n",
    "$$ \\theta_{i}(n) = \\beta (N_{i}^1(n) + 1, N_{i}^0(n) + 1) $$\n",
    "\n",
    "**STEP 3**: We select the option that has the highest $\\theta_{i}(n)$.\n"
   ]
  }
 ],
 "metadata": {
  "language_info": {
   "name": "python"
  }
 },
 "nbformat": 4,
 "nbformat_minor": 2
}
