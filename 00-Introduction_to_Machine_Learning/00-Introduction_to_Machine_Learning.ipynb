{
 "cells": [
  {
   "cell_type": "markdown",
   "metadata": {},
   "source": [
    "# Machine Learning (Python)\n",
    "---\n",
    "## Resources and Tools\n",
    "\n",
    "- Google CoLab\n",
    "\n",
    "- <a href='https://www.superdatascience.com/pages/machine-learning'>Machine Learning A-Z course</a>\n",
    "\n",
    "- <a href ='https://sdsclub.com/machine-learning-a-z-tips-and-resources'>Machine Learning A-Z Tips and Extra Resources</a>\n",
    "\n",
    "---\n"
   ]
  }
 ],
 "metadata": {
  "language_info": {
   "name": "python"
  }
 },
 "nbformat": 4,
 "nbformat_minor": 2
}
