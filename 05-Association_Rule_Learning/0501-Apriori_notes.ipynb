{
 "cells": [
  {
   "cell_type": "markdown",
   "metadata": {},
   "source": [
    "# Apriori\n",
    "\n",
    "---\n",
    "\n",
    "## Support\n",
    "\n",
    "$ support(X) = {{observations\\_X} \\over {total\\_observations}} $\n",
    "\n",
    "---\n",
    "\n",
    "## Confidence\n",
    "\n",
    "$ confidence(X_{1} \\rightarrow  X_{2}) = {{observations\\_X_{1}\\_and\\_X_{2}} \\over {observations\\_X_{1}}} $\n",
    "\n",
    "---\n",
    "\n",
    "## Lift\n",
    "\n",
    "Is the improvement of your original prediction, the difference from Support and Confidence\n",
    "\n",
    "$ Lift = {confidence \\over support} $\n",
    "\n",
    "---\n",
    "\n",
    "## Apriori Algorithm\n",
    "\n",
    "**STEP 1**: Set a minimum support and confidence.\n",
    "\n",
    "**STEP 2**: Take all the subsets in transactions having higher support than minimum support.\n",
    "\n",
    "**STEP 3**: Take all the rules of these subsets having higher confidence than minimum confidence.\n",
    "\n",
    "**STEP 4**: Sort the rules by decreasing lift.\n"
   ]
  }
 ],
 "metadata": {
  "language_info": {
   "name": "python"
  }
 },
 "nbformat": 4,
 "nbformat_minor": 2
}
