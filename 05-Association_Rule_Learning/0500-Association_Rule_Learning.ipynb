{
 "cells": [
  {
   "cell_type": "markdown",
   "metadata": {},
   "source": [
    "# Association Rule Learning\n",
    "\n",
    "---\n",
    "\n",
    "ARL is about making associations between or data points, seeing how probable if that something occurrs, based on other similar observations."
   ]
  }
 ],
 "metadata": {
  "language_info": {
   "name": "python"
  }
 },
 "nbformat": 4,
 "nbformat_minor": 2
}
