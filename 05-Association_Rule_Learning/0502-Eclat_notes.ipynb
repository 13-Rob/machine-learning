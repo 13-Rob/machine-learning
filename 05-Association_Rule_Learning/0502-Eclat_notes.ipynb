{
 "cells": [
  {
   "cell_type": "markdown",
   "metadata": {},
   "source": [
    "# Eclat\n",
    "\n",
    "---\n",
    "\n",
    "This algorithm is similar to the Apriori algorithm, so it is only natural that we have similar variables.\n",
    "\n",
    "---\n",
    "\n",
    "## Support\n",
    "\n",
    "$ support(X) = {{observations\\_X} \\over {total\\_observations}} $\n",
    "\n",
    "---\n",
    "\n",
    "## Eclat Algorithm\n",
    "\n",
    "**STEP 1**: Set a minimum support.\n",
    "\n",
    "**STEP 2**: Take all the subsets in ttransactions having higher support than minimum support.\n",
    "\n",
    "**STEP 3**: Sort these subsets by decreasing support."
   ]
  }
 ],
 "metadata": {
  "language_info": {
   "name": "python"
  }
 },
 "nbformat": 4,
 "nbformat_minor": 2
}
