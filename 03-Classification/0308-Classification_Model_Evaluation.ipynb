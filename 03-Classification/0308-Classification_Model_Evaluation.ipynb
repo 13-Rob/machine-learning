{
 "cells": [
  {
   "cell_type": "markdown",
   "metadata": {},
   "source": [
    "# Classification Model Evaluation & Selection\n",
    "\n",
    "---\n",
    "\n",
    "## Additional Reading\n",
    "\n",
    "*Understanding the Confusion Matrix from Scikit learn*. Samarth Agrawal (2021). Link https://towardsdatascience.com/understanding-the-confusion-matrix-from-scikit-learn-c51d88929c79. "
   ]
  }
 ],
 "metadata": {
  "language_info": {
   "name": "python"
  }
 },
 "nbformat": 4,
 "nbformat_minor": 2
}
