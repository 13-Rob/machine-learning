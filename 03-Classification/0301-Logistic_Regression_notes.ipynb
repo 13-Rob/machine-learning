{
 "cells": [
  {
   "cell_type": "markdown",
   "metadata": {},
   "source": [
    "# Logistic Regression\n",
    "\n",
    "---\n",
    "\n",
    "Logistic Regression is used to predict a categorical dependent variable from a number of independent variables. The difference between Linear Regression is that this is not predicting a continous value, but a category.\n",
    "\n",
    "---\n",
    "\n",
    "## Logistic Regression Equation\n",
    "\n",
    "$$ ln{ p \\over 1-p } = b_{0} + b_{1} X_{1} + ... + b_{n} X_{n} $$\n",
    "\n",
    "This equation will turn into a sigmoid curve, not actually a binary value, so the value we get from projecting data into the curve is the probability of that data being on one side of the curve.\n",
    "\n",
    "---\n",
    "\n",
    "## Maximum Likelihood\n",
    "\n",
    "The maximum likelihood is a meassure to determine if the equation we found is the optimal for our dataset. This is done comparing all our dataset results with what would have the equation predicted for that data, and you do that for all possible curves.\n",
    "\n",
    "$$ L( \\theta | x ) = \\prod_{i=1}^{n} p_{x} ( x_{i} | \\theta ) $$"
   ]
  }
 ],
 "metadata": {
  "language_info": {
   "name": "python"
  }
 },
 "nbformat": 4,
 "nbformat_minor": 2
}
