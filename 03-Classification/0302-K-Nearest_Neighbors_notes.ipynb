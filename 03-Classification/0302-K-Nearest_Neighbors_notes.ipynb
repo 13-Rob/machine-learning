{
 "cells": [
  {
   "cell_type": "markdown",
   "metadata": {},
   "source": [
    "# K-Nearest Neighbors (K-NN)\n",
    "\n",
    "---\n",
    "\n",
    "The K-Nearest Neighbors algorithm will help us determine the category of a new set of data based on how close that data is to our previous dat, and to what category that previous data belongs to.\n",
    "\n",
    "---\n",
    "\n",
    "## Algorithm\n",
    "\n",
    "STEP 1: Choose the number K of neighbors\n",
    "\n",
    "STEP 2: Take the K nearest neighbors of the new data point, according to the Euclidean distance.\n",
    "\n",
    "STEP 3: Among these K neighbors, count the number of data point in each category.\n",
    "\n",
    "STEP 4: Assign the new data point to the category where you counted the most neighbors.\n",
    "\n",
    "FIN: Model is ready"
   ]
  }
 ],
 "metadata": {
  "language_info": {
   "name": "python"
  }
 },
 "nbformat": 4,
 "nbformat_minor": 2
}
