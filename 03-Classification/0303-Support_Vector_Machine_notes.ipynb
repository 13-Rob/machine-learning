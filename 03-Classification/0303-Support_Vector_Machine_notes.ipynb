{
 "cells": [
  {
   "cell_type": "markdown",
   "metadata": {},
   "source": [
    "# Support Vector Machine (SVM)\n",
    "\n",
    "---\n",
    "\n",
    "The two \"points\" from different categories closer to each other are the support vectors, and they define the ***Maximum Margin Hyperplane (Maximum Margin Classifier)***. This ***Maximum Margin Hyperplane*** is the vector that sets the categories apart from one another, and it is equidistant from the support vectors. The ***Maximum Margin Hyperplane*** is parallel to the ***Positive Hyperplane*** and to the ***Negative Hyperplane*** which are the edges of the categories.\n",
    "\n",
    "What make Support Vector Machines so special is the fact that they look for the differences on the most similar elements from the different categories."
   ]
  }
 ],
 "metadata": {
  "language_info": {
   "name": "python"
  }
 },
 "nbformat": 4,
 "nbformat_minor": 2
}
