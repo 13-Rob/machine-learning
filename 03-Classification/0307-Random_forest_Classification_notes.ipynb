{
 "cells": [
  {
   "cell_type": "markdown",
   "metadata": {},
   "source": [
    "# Random Forest Classification\n",
    "\n",
    "---\n",
    "\n",
    "## Random Forest and Ensemble Learning\n",
    "\n",
    "Random Forest is a version of Ensamble Learning. Ensamble Learning is when you take multiple algorithms or the same algorithm multiple times and you put them together to make something much more powerful than the original.\n",
    "\n",
    "**STEP 1**: Pick at random K data points from the Training set.\n",
    "\n",
    "**STEP 2**: Build the Decision Tree associated to these K data points.\n",
    "\n",
    "**STEP 3**: Choose the number Ntree of trees you want to build and repeat STEPS 1 & 2.\n",
    "\n",
    "**STEP 4**: For a new data point, make each one of your Ntree trees predict the category to which the data points belongs, and assign the new data point to the ctaegory that wins the majority vote.\n",
    "\n",
    "---\n",
    "\n",
    "## Additional Reading\n",
    "\n",
    "https://www.microsoft.com/en-us/research/wp-content/uploads/2016/02/BodyPartRecognition.pdf"
   ]
  }
 ],
 "metadata": {
  "language_info": {
   "name": "python"
  }
 },
 "nbformat": 4,
 "nbformat_minor": 2
}
