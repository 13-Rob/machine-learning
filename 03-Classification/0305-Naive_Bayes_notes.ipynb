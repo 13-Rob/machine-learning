{
 "cells": [
  {
   "cell_type": "markdown",
   "metadata": {},
   "source": [
    "# Naive Bayes\n",
    "\n",
    "---\n",
    "\n",
    "## Bayes' Theorem\n",
    "\n",
    "$$ P(A|B) = { P(B|A) \\cdot P(A) \\over P(B) } $$\n",
    "\n",
    "Example:\n",
    "In a fabric there are two wrench-maker machines, each produces 30 and 20 wrenches per hour respectively. Out of all produced wrenches, 1% are defective. From those, 50% come from machine 1 and 50% from machine 2. What is the probability that a part produced by machine 2 is defective.\n",
    "\n",
    "$ P(Mach1) = { 30 \\over 50 } = 0.6 $\n",
    "\n",
    "$ P(Mach2) = { 20 \\over 50 } = 0.4 $\n",
    "\n",
    "$ P(Defect) = 0.01 $\n",
    "\n",
    "$ P(Mach1 | Defect) = 0.5 $\n",
    "\n",
    "$ P(Mach2 | Defect) = 0.5 $\n",
    "\n",
    "According to the Bayes' Theorem:\n",
    "\n",
    "$ P(Defect | Mach2) = {P(Mach2 | Defect) \\cdot P(Defect) \\over P(Mach2)} = { 0.5 \\cdot 0.01 \\over 0.4 } = 0.0125 $\n",
    "\n",
    "---\n",
    "\n",
    "## Naïve Bayes Classifier\n",
    "\n",
    "To make a classifier using the Bayes Theorem, we have to apply the theorem for each of the categories and compare them. The probability of our data point having x features, is calculated using the points inside a given radius.\n",
    "\n",
    "$$ P(A|x) = { P(x|A) \\cdot P(A) \\over P(x) } $$\n",
    "\n",
    "\n",
    "- Prior Probability $ P(A) $: Total of observations that fall into category $A$ divided by the total observations.\n",
    "\n",
    "- Marginal Likelihood $ P(x) $: Number of similar observations divided by the total of observations. An observation is considered similar to another if they are separated by a distance of a value $ r $ previously given.\n",
    "\n",
    "- Likelihood $ P(x|A) $: Number of similar observations from category $A$ divided by the number of total observations in category $A$.\n",
    "\n",
    "You have to do the math fot both, category $A$ and $B$, and then compare the probabilities."
   ]
  }
 ],
 "metadata": {
  "language_info": {
   "name": "python"
  }
 },
 "nbformat": 4,
 "nbformat_minor": 2
}
