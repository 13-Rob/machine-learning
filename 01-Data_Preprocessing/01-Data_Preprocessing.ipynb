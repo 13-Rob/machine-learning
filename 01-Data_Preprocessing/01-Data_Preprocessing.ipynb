{
 "cells": [
  {
   "cell_type": "markdown",
   "metadata": {},
   "source": [
    "# Data Preprocessing\n",
    "---\n",
    "\n",
    "## Splitting the data into Training and Test Set\n",
    "\n",
    "Splitting the data implies separating the data, so you have a set of data that is going to be used exclusivelly to build and train the model, and another set is going to be used to make predictions with the model and compare those predictions to the actual values we know."
   ]
  },
  {
   "cell_type": "code",
   "execution_count": null,
   "metadata": {},
   "outputs": [],
   "source": []
  }
 ],
 "metadata": {
  "language_info": {
   "name": "python"
  }
 },
 "nbformat": 4,
 "nbformat_minor": 2
}
