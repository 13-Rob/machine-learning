{
 "cells": [
  {
   "cell_type": "markdown",
   "metadata": {},
   "source": [
    "# Data Preprocessing\n",
    "\n",
    "---\n",
    "\n",
    "## Splitting the data into Training and Test Set\n",
    "\n",
    "Splitting the data implies separating the data, so you have a set of data that is going to be used exclusivelly to build and train the model, and another set is going to be used to make predictions with the model and compare those predictions to the actual values we know.\n",
    "\n",
    "---\n",
    "\n",
    "## Feature Scaling\n",
    "\n",
    "Feature scaling have multiple techniques, the two main ones in this course are Normalization and Standarization. It is **applied to columns**, not rows.\n",
    "\n",
    "### Normalization\n",
    "\n",
    "Is the process of taking the minimun inside a column, substract that minimum to every value in that column, and then dividing by the difference between the maximum and the minimum. This way every single value in the column is adjusted with values between 0 and 1.\n",
    "\n",
    "$$ X' = {{X - X_{min}} \\over {X_{max} - X_{min}}} $$\n",
    "\n",
    "### Standarization\n",
    "\n",
    "On the other hand, Standarization uses the average instead of the minimum, and divide every value by the standard deviation. And will result in values almost always between -3 and 3.\n",
    "\n",
    "$$ X' = {{X - \\mu} \\over {\\sigma}} $$\n"
   ]
  }
 ],
 "metadata": {
  "kernelspec": {
   "display_name": "machine-learning-venv",
   "language": "python",
   "name": "python3"
  },
  "language_info": {
   "name": "python",
   "version": "3.12.1"
  }
 },
 "nbformat": 4,
 "nbformat_minor": 2
}
