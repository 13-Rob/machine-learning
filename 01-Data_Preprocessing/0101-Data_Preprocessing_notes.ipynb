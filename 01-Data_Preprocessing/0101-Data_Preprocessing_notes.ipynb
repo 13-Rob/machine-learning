{
 "cells": [
  {
   "cell_type": "markdown",
   "metadata": {},
   "source": [
    "# Data Preprocessing\n",
    "\n",
    "---\n",
    "\n",
    "## Splitting the data into Training and Test Set\n",
    "\n",
    "Splitting the data implies separating the data, so you have a set of data that is going to be used exclusivelly to build and train the model, and another set is going to be used to make predictions with the model and compare those predictions to the actual values we know.\n",
    "\n",
    "---\n",
    "\n",
    "## Taking care of missing data\n",
    "\n",
    "You don't want to have missing data, sometimes it might cause errors or it may affect your model. There are different approaches to take care of it.\n",
    "\n",
    "1. **Ignore the missing data.** You can just delete the incomplete data, but that is only in case you have a big data set and the missing data is not a lot.\n",
    "\n",
    "2. **Replace the missing data.** You can replace the missing data with the average of all the other data in the same column.\n",
    "\n",
    "---\n",
    "\n",
    "## Encoding categorical data\n",
    "\n",
    "For machines is not easy to understand how can a word or a category affect a prediction, that's why it is necessary to transform the data to something computers can understand.\n",
    "\n",
    "We cannot use arbitrary numbers, because that might confuse the prediction model. What we can do is divide the column with ***n*** different possible values into ***n*** columns with a true/false value each. This columns are called dummy variables.\n",
    "\n",
    "### Dummy Variable Trap\n",
    "\n",
    "Including all dummy variables will because one dummy variable will always be the opposite of the other, making them 'equal' to the eyes of the model.\n",
    "\n",
    "---\n",
    "\n",
    "## Feature Scaling\n",
    "\n",
    "Feature scaling have multiple techniques, the two main ones in this course are Normalization and Standarization. It is **applied to columns**, not rows.\n",
    "\n",
    "### Normalization\n",
    "\n",
    "Is the process of taking the minimun inside a column, substract that minimum to every value in that column, and then dividing by the difference between the maximum and the minimum. This way every single value in the column is adjusted with values between 0 and 1.\n",
    "\n",
    "$$ X' = {{X - X_{min}} \\over {X_{max} - X_{min}}} $$\n",
    "\n",
    "### Standarization\n",
    "\n",
    "On the other hand, Standarization uses the average instead of the minimum, and divide every value by the standard deviation. And will result in values almost always between -3 and 3.\n",
    "\n",
    "$$ X' = {{X - \\mu} \\over {\\sigma}} $$\n"
   ]
  }
 ],
 "metadata": {
  "kernelspec": {
   "display_name": "machine-learning-venv",
   "language": "python",
   "name": "python3"
  },
  "language_info": {
   "name": "python",
   "version": "3.12.1"
  }
 },
 "nbformat": 4,
 "nbformat_minor": 2
}
